{
 "cells": [
  {
   "cell_type": "code",
   "execution_count": 4,
   "id": "88694c30",
   "metadata": {},
   "outputs": [
    {
     "name": "stdout",
     "output_type": "stream",
     "text": [
      "Character | Huffman Code\n",
      "-------------------------\n",
      "    l    |    000\n",
      "    m    |    001\n",
      "    i    |    01\n",
      "    e    |    100\n",
      "    g    |    101\n",
      "    a    |    110\n",
      "    d    |    1110\n",
      "    t    |    1111\n"
     ]
    }
   ],
   "source": [
    "#Developed by: DILIP M P\n",
    "#Reg.no: 212223230048\n",
    "\n",
    "input_string = \"digitalimage\" \n",
    "frequency = {}\n",
    "for char in input_string:\n",
    "    if char in frequency:\n",
    "        frequency[char] += 1\n",
    "    else:\n",
    "        frequency[char] = 1\n",
    "nodes = [[char, freq] for char, freq in frequency.items()]\n",
    "while len(nodes) > 1:\n",
    "    nodes = sorted(nodes, key=lambda x: x[1])\n",
    "\n",
    "    left = nodes.pop(0)\n",
    "    right = nodes.pop(0)\n",
    "\n",
    "    new_node = [[left, right], left[1] + right[1]]\n",
    "    nodes.append(new_node)\n",
    "\n",
    "huffman_tree = nodes[0]\n",
    "huffman_codes = {}\n",
    "\n",
    "def generate_codes(tree, code=\"\"):\n",
    "    if isinstance(tree[0], str):  \n",
    "        huffman_codes[tree[0]] = code\n",
    "    else: \n",
    "        generate_codes(tree[0][0], code + \"0\")\n",
    "        generate_codes(tree[0][1], code + \"1\")\n",
    "\n",
    "generate_codes(huffman_tree)\n",
    "print(\"Character | Huffman Code\")\n",
    "print(\"-------------------------\")\n",
    "for char, code in huffman_codes.items():\n",
    "    print(f\"    {char}    |    {code}\")"
   ]
  },
  {
   "cell_type": "code",
   "execution_count": null,
   "id": "6f4dd021",
   "metadata": {},
   "outputs": [],
   "source": []
  }
 ],
 "metadata": {
  "kernelspec": {
   "display_name": "Python 3 (ipykernel)",
   "language": "python",
   "name": "python3"
  },
  "language_info": {
   "codemirror_mode": {
    "name": "ipython",
    "version": 3
   },
   "file_extension": ".py",
   "mimetype": "text/x-python",
   "name": "python",
   "nbconvert_exporter": "python",
   "pygments_lexer": "ipython3",
   "version": "3.11.5"
  }
 },
 "nbformat": 4,
 "nbformat_minor": 5
}
